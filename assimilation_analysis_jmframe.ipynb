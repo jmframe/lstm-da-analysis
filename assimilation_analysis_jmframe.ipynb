{
 "cells": [
  {
   "cell_type": "code",
   "execution_count": 1,
   "metadata": {},
   "outputs": [],
   "source": [
    "import pathlib\n",
    "import tqdm\n",
    "import pandas as pd\n",
    "import pickle as pkl\n",
    "import numpy as np\n",
    "import matplotlib.pyplot as plt\n",
    "import xarray\n",
    "import time\n",
    "import matplotlib.cm as cm\n",
    "import scipy"
   ]
  },
  {
   "cell_type": "code",
   "execution_count": 37,
   "metadata": {},
   "outputs": [],
   "source": [
    "# NOTEBOOK SETUP.\n",
    "# CHOSE OPTIONS, PATHS, DATE RANGES, ETC. HERE IN THIS CELL\n",
    "\n",
    "# Options for what to calculate\n",
    "# Calulations will be saved to pkl\n",
    "# If False, will load in pkl files\n",
    "######################################\n",
    "calculate_metric_dictionary = False #\n",
    "calculate_flow_categories = False   #\n",
    "calculate_metric_matrix = False     #\n",
    "######################################\n",
    "\n",
    "val_start='10/01/1989'\n",
    "val_end='09/30/1999'\n",
    "date_range = pd.date_range(start=val_start, end=val_end)\n",
    "\n",
    "# local directory with all data\n",
    "# not included in github\n",
    "data_dir = \"./data/\""
   ]
  },
  {
   "cell_type": "code",
   "execution_count": 44,
   "metadata": {},
   "outputs": [
    {
     "data": {
      "text/plain": [
       "(671, 45)"
      ]
     },
     "execution_count": 44,
     "metadata": {},
     "output_type": "execute_result"
    }
   ],
   "source": [
    "if True: # Open the attributes set up to do regression\n",
    "    openthis = data_dir+'camels_attributes_v2.0/camels_attributes_v2.0_Regression.csv'\n",
    "    attributes = pd.read_csv(openthis, sep=',', index_col='gauge_id')\n",
    "else: # Open a slightly more extrnsive data set.\n",
    "    openthis = data_dir+'camels_attributes_v2.0/camels_attributes_v2.0.csv'\n",
    "    attributes = pd.read_csv(openthis, sep=';', index_col='gauge_id')\n",
    "\n",
    "# Catchment attributes and hydrologic signatures that are not useful\n",
    "drop_these = ['high_prec_timing','root_depth_50',\n",
    "              'root_depth_99','zero_q_freq','water_frac','organic_frac']\n",
    "    \n",
    "# Add the basin ID as a 8 element string with a leading zero if neccessary\n",
    "basin_id_str = []\n",
    "for a in attributes.index.values:\n",
    "    basin_id_str.append(str(a).zfill(8))\n",
    "attributes['basin_id_str'] = basin_id_str\n",
    "\n",
    "# These are bad for the regression analysis.\n",
    "attributes = attributes.drop(drop_these, axis=1)\n",
    "attributes.shape"
   ]
  },
  {
   "cell_type": "code",
   "execution_count": 45,
   "metadata": {},
   "outputs": [],
   "source": [
    "# Get the hydrologic units for each basin.\n",
    "with open(data_dir + 'usgs_site_info.csv', 'r') as f:\n",
    "    usgs_sites = pd.read_csv(f, skiprows=24, index_col='site_no')\n",
    "usgs_idx_int = []\n",
    "for idx in usgs_sites.index.values:\n",
    "    usgs_idx_int.append(int(idx))\n",
    "usgs_sites.reindex(usgs_idx_int)\n",
    "usgs_sites = usgs_sites.reindex(usgs_idx_int)\n",
    "basin_hydro_unit = []\n",
    "for b in attributes.basin_id_str.values:\n",
    "    huc_cd = usgs_sites.loc[int(b),'huc_cd']\n",
    "    hu = '{:08d}'.format(huc_cd)\n",
    "    basin_hydro_unit.append(hu[0:2])\n",
    "attributes['basin_hydro_unit'] = basin_hydro_unit"
   ]
  },
  {
   "cell_type": "code",
   "execution_count": 25,
   "metadata": {},
   "outputs": [],
   "source": [
    "with open(data_dir+\"ensemble_metrics.pkl\", \"rb\") as fb:\n",
    "    ensemble_metrics = pkl.load(fb)\n",
    "with open(data_dir+\"individual_run_metrics.pkl\", \"rb\") as fb:\n",
    "    individual_run_metrics = pkl.load(fb)\n",
    "with open(data_dir+\"observations.pkl\", \"rb\") as fb:\n",
    "    observations = pkl.load(fb)\n",
    "with open(data_dir+\"simulations.pkl\", \"rb\") as fb:\n",
    "    simulations = pkl.load(fb)"
   ]
  },
  {
   "cell_type": "code",
   "execution_count": 34,
   "metadata": {},
   "outputs": [
    {
     "data": {
      "text/plain": [
       "array([('01022500', 'base_model'), ('01022500', 'base_model_states'),\n",
       "       ('01022500', 'base_model_inputs'), ...,\n",
       "       ('14400000', 'lagged_streamflow_states'),\n",
       "       ('14400000', 'lagged_streamflow_inputs'),\n",
       "       ('14400000', 'lagged_streamflow_both')], dtype=object)"
      ]
     },
     "execution_count": 34,
     "metadata": {},
     "output_type": "execute_result"
    }
   ],
   "source": [
    "simulations.columns.values"
   ]
  },
  {
   "cell_type": "code",
   "execution_count": 32,
   "metadata": {},
   "outputs": [],
   "source": [
    "def nse(y, y_hat):\n",
    "    idx = (~np.isnan(y)) & (~np.isnan(y_hat))\n",
    "    return 1 - np.nansum((y[idx] - y_hat[idx])**2) / np.nansum((y[idx] - np.nanmean(y[idx]))**2)"
   ]
  },
  {
   "cell_type": "code",
   "execution_count": 35,
   "metadata": {},
   "outputs": [
    {
     "data": {
      "text/plain": [
       "0.8835914484219056"
      ]
     },
     "execution_count": 35,
     "metadata": {},
     "output_type": "execute_result"
    }
   ],
   "source": [
    "nse(observations['01022500'], simulations['01022500', 'base_model'])"
   ]
  },
  {
   "cell_type": "code",
   "execution_count": null,
   "metadata": {},
   "outputs": [],
   "source": []
  }
 ],
 "metadata": {
  "kernelspec": {
   "display_name": "Python 3",
   "language": "python",
   "name": "python3"
  },
  "language_info": {
   "codemirror_mode": {
    "name": "ipython",
    "version": 3
   },
   "file_extension": ".py",
   "mimetype": "text/x-python",
   "name": "python",
   "nbconvert_exporter": "python",
   "pygments_lexer": "ipython3",
   "version": "3.7.6"
  }
 },
 "nbformat": 4,
 "nbformat_minor": 4
}
